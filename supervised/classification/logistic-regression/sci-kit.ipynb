{
 "cells": [
  {
   "cell_type": "code",
   "execution_count": 23,
   "metadata": {},
   "outputs": [
    {
     "name": "stdout",
     "output_type": "stream",
     "text": [
      "Image data shape = (1797, 64)\n",
      "Label data shape = (1797,)\n"
     ]
    },
    {
     "data": {
      "image/png": "[encoded data removed]",
      "text/plain": [
       "<Figure size 1440x288 with 5 Axes>"
      ]
     },
     "metadata": {
      "needs_background": "light"
     },
     "output_type": "display_data"
    }
   ],
   "source": [
    "# load dataset\n",
    "\n",
    "# useful links:\n",
    "#     - https://towardsdatascience.com/logistic-regression-using-python-sklearn-numpy-mnist-handwriting-recognition-matplotlib-a6b31e2b166a\n",
    "#     - https://towardsdatascience.com/receiver-operating-characteristic-curves-demystified-in-python-bd531a4364d0\n",
    "#     - https://acutecaretesting.org/en/articles/precision-recall-curves-what-are-they-and-how-are-they-used\n",
    "\n",
    "import numpy as np\n",
    "import matplotlib.pyplot as plt\n",
    "\n",
    "from sklearn.datasets import load_digits\n",
    "from sklearn.model_selection import train_test_split\n",
    "\n",
    "digitsDataset = load_digits()\n",
    "\n",
    "print(f'Image data shape = {digitsDataset.data.shape}')\n",
    "print(f'Label data shape = {digitsDataset.target.shape}')\n",
    "\n",
    "plt.figure(figsize=(20, 4))\n",
    "\n",
    "for index, (image, label) in enumerate(zip(digitsDataset.data[:5], digitsDataset.target[:5])):\n",
    "    plt.subplot(1, 5, index + 1)\n",
    "    plt.imshow(np.reshape(image, (8, 8)), cmap=plt.cm.gray)\n",
    "    plt.title(f'Training: {label}')\n",
    "\n",
    "X_train, X_test, y_train, y_test = train_test_split(digitsDataset.data, digitsDataset.target, test_size=0.2)"
   ]
  },
  {
   "cell_type": "code",
   "execution_count": 36,
   "metadata": {},
   "outputs": [
    {
     "name": "stdout",
     "output_type": "stream",
     "text": [
      "Models metrics:\n",
      "\tAccuracy = 0.9722222222222222\n",
      "\tPrecision-recall score:\n",
      "\t\t[0.975      0.90909091 1.         0.94444444 1.        ]\n",
      "\t\t[1.         1.         0.97619048 0.94285714 0.97142857]\n",
      "\tF1 score:\n",
      "\t\t[0.98734177 0.9375     0.98550725 0.97142857 0.98305085]\n",
      "\t\t[0.98765432 1.         0.97619048 0.94285714 0.94444444]\n"
     ]
    },
    {
     "data": {
      "text/plain": [
       "<matplotlib.colorbar.Colorbar at 0x1d9289898d0>"
      ]
     },
     "execution_count": 36,
     "metadata": {},
     "output_type": "execute_result"
    },
    {
     "data": {
      "image/png": "[encoded data removed]",
      "text/plain": [
       "<Figure size 432x288 with 2 Axes>"
      ]
     },
     "metadata": {
      "needs_background": "light"
     },
     "output_type": "display_data"
    }
   ],
   "source": [
    "# create a model\n",
    "\n",
    "import matplotlib.pyplot as plt\n",
    "\n",
    "from sklearn.linear_model import LogisticRegression\n",
    "from sklearn.metrics import confusion_matrix, accuracy_score, precision_score, f1_score\n",
    "\n",
    "\n",
    "logisticRegression = LogisticRegression()\n",
    "logisticRegression.fit(X_train, y_train)\n",
    "y_predict = logisticRegression.predict(X_test)\n",
    "\n",
    "print('Models metrics:')\n",
    "print(f'\\tAccuracy = {accuracy_score(y_test, y_predict)}')\n",
    "precisionScore = precision_score(y_test, y_predict, average=None)\n",
    "print(f'\\tPrecision-recall score:')\n",
    "print(f'\\t\\t{precisionScore[:5]}')\n",
    "print(f'\\t\\t{precisionScore[5:]}')\n",
    "f1Score = f1_score(y_test, y_predict, average=None)\n",
    "print(f'\\tF1 score:')\n",
    "print(f'\\t\\t{f1Score[:5]}')\n",
    "print(f'\\t\\t{f1Score[5:]}')\n",
    "\n",
    "plt.imshow(confusion_matrix(y_test, y_predict), cmap=plt.cm.Blues, interpolation='nearest')\n",
    "plt.title('Confusion matrix')\n",
    "plt.colorbar()"
   ]
  }
 ],
 "metadata": {
  "kernelspec": {
   "display_name": "Python 3",
   "language": "python",
   "name": "python3"
  },
  "language_info": {
   "codemirror_mode": {
    "name": "ipython",
    "version": 3
   },
   "file_extension": ".py",
   "mimetype": "text/x-python",
   "name": "python",
   "nbconvert_exporter": "python",
   "pygments_lexer": "ipython3",
   "version": "3.7.0"
  }
 },
 "nbformat": 4,
 "nbformat_minor": 2
}
