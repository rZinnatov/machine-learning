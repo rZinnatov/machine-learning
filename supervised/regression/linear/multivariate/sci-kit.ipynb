{
 "cells": [
  {
   "cell_type": "code",
   "execution_count": 21,
   "metadata": {},
   "outputs": [],
   "source": [
    "# get data\n",
    "\n",
    "from sklearn import datasets\n",
    "from sklearn.model_selection import train_test_split\n",
    "\n",
    "data = datasets.load_boston()\n",
    "X_train, X_test, y_train, y_test = train_test_split(data.data, data.target, test_size=0.2)"
   ]
  },
  {
   "cell_type": "code",
   "execution_count": 22,
   "metadata": {},
   "outputs": [
    {
     "name": "stdout",
     "output_type": "stream",
     "text": [
      "\n",
      "Training results:\n",
      "Learned parameters:\n",
      "\tintercept = 40.210567874119604\n",
      "\tcoef = [-9.62771116e-02  4.45941782e-02 -1.87878790e-02  2.59241336e+00\n",
      " -1.98865002e+01  3.45878620e+00  1.06878667e-02 -1.50484638e+00\n",
      "  2.93129172e-01 -1.09393302e-02 -9.78851016e-01  8.46797687e-03\n",
      " -5.40365521e-01]\n",
      "MSE = 28.387497213333077\n",
      "R^2 score = 0.6853590860727732\n"
     ]
    }
   ],
   "source": [
    "# learn the parameters via sklearn\n",
    "\n",
    "from sklearn import linear_model\n",
    "from sklearn.metrics import mean_squared_error, r2_score\n",
    "\n",
    "model = linear_model.LinearRegression().fit(X_train, y_train)\n",
    "y_predict = model.predict(X_test)\n",
    "\n",
    "# see results\n",
    "print('\\nTraining results:')\n",
    "print(f'Learned parameters:')\n",
    "print(f'\\tintercept = {linearRegression.intercept_}')\n",
    "print(f'\\tcoef = {linearRegression.coef_}')\n",
    "print(f'MSE = {mean_squared_error(y_test, y_predict)}')\n",
    "print(f'R^2 score = {r2_score(y_test, y_predict)}')"
   ]
  },
  {
   "cell_type": "code",
   "execution_count": 23,
   "metadata": {},
   "outputs": [
    {
     "name": "stdout",
     "output_type": "stream",
     "text": [
      "\n",
      "Training results:\n",
      "Learned parameters:\n",
      "\tcoef = [-0.08348109  0.05207671 -0.011254    2.84733437 -4.82191614  6.10706927\n",
      " -0.01761759 -1.09777802  0.1448423  -0.00895967 -0.39266463  0.01574243\n",
      " -0.35643333]\n",
      "MSE = 32.758246596167666\n",
      "R^2 score = 0.6369146399130031\n"
     ]
    }
   ],
   "source": [
    "# learn the parameters via numpy\n",
    "\n",
    "import numpy as np\n",
    "from sklearn.metrics import mean_squared_error, r2_score\n",
    "\n",
    "X_train_T = np.transpose(X_train)\n",
    "parameters = np.dot(\n",
    "    np.linalg.inv(np.dot(X_train_T, X_train)),\n",
    "    np.dot(X_train_T, y_train)\n",
    ")\n",
    "\n",
    "y_predict = np.dot(X_test, parameters)\n",
    "\n",
    "# see results\n",
    "print('\\nTraining results:')\n",
    "print(f'Learned parameters:')\n",
    "#print(f'\\tintercept = {}') # TODO: find y-intercept\n",
    "print(f'\\tcoef = {parameters}')\n",
    "print(f'MSE = {mean_squared_error(y_test, y_predict)}')\n",
    "print(f'R^2 score = {r2_score(y_test, y_predict)}')"
   ]
  }
 ],
 "metadata": {
  "kernelspec": {
   "display_name": "Python 3",
   "language": "python",
   "name": "python3"
  },
  "language_info": {
   "codemirror_mode": {
    "name": "ipython",
    "version": 3
   },
   "file_extension": ".py",
   "mimetype": "text/x-python",
   "name": "python",
   "nbconvert_exporter": "python",
   "pygments_lexer": "ipython3",
   "version": "3.7.0"
  }
 },
 "nbformat": 4,
 "nbformat_minor": 2
}
