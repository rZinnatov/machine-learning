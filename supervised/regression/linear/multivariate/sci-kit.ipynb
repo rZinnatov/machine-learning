{
 "cells": [
  {
   "cell_type": "code",
   "execution_count": 24,
   "metadata": {},
   "outputs": [],
   "source": [
    "# get data\n",
    "\n",
    "from sklearn import datasets\n",
    "from sklearn.model_selection import train_test_split\n",
    "\n",
    "data = datasets.load_boston()\n",
    "X_train, X_test, y_train, y_test = train_test_split(data.data, data.target, test_size=0.2)"
   ]
  },
  {
   "cell_type": "code",
   "execution_count": 25,
   "metadata": {},
   "outputs": [
    {
     "name": "stdout",
     "output_type": "stream",
     "text": [
      "\n",
      "Training results:\n",
      "Learned parameters:\n",
      "\tintercept = 40.210567874119604\n",
      "\tcoef = [-9.62771116e-02  4.45941782e-02 -1.87878790e-02  2.59241336e+00\n",
      " -1.98865002e+01  3.45878620e+00  1.06878667e-02 -1.50484638e+00\n",
      "  2.93129172e-01 -1.09393302e-02 -9.78851016e-01  8.46797687e-03\n",
      " -5.40365521e-01]\n",
      "MSE = 22.553362290311135\n",
      "R^2 score = 0.7858836069055493\n"
     ]
    }
   ],
   "source": [
    "# learn the parameters via sklearn\n",
    "\n",
    "from sklearn import linear_model\n",
    "from sklearn.metrics import mean_squared_error, r2_score\n",
    "\n",
    "model = linear_model.LinearRegression().fit(X_train, y_train)\n",
    "y_predict = model.predict(X_test)\n",
    "\n",
    "# see results\n",
    "print('\\nTraining results:')\n",
    "print(f'Learned parameters:')\n",
    "print(f'\\tintercept = {linearRegression.intercept_}')\n",
    "print(f'\\tcoef = {linearRegression.coef_}')\n",
    "print(f'MSE = {mean_squared_error(y_test, y_predict)}')\n",
    "print(f'R^2 score = {r2_score(y_test, y_predict)}')"
   ]
  },
  {
   "cell_type": "code",
   "execution_count": 26,
   "metadata": {},
   "outputs": [
    {
     "name": "stdout",
     "output_type": "stream",
     "text": [
      "\n",
      "Training results:\n",
      "Learned parameters:\n",
      "\tcoef = [-9.89987976e-02  6.21798878e-02 -2.09408239e-02  4.30050249e+00\n",
      " -2.50868427e+00  5.27338335e+00 -1.19415990e-03 -9.72862381e-01\n",
      "  1.59811558e-01 -8.09486472e-03 -2.23652479e-01  1.52610742e-02\n",
      " -4.32762072e-01]\n",
      "MSE = 20.39491364771591\n",
      "R^2 score = 0.8063754179305797\n"
     ]
    }
   ],
   "source": [
    "# learn the parameters via numpy\n",
    "\n",
    "import numpy as np\n",
    "from sklearn.metrics import mean_squared_error, r2_score\n",
    "\n",
    "X_train_T = np.transpose(X_train)\n",
    "parameters = np.dot(\n",
    "    np.linalg.inv(np.dot(X_train_T, X_train)),\n",
    "    np.dot(X_train_T, y_train)\n",
    ")\n",
    "\n",
    "y_predict = np.dot(X_test, parameters)\n",
    "\n",
    "# see results\n",
    "print('\\nTraining results:')\n",
    "print(f'Learned parameters:')\n",
    "#print(f'\\tintercept = {}') # TODO: find y-intercept\n",
    "print(f'\\tcoef = {parameters}')\n",
    "print(f'MSE = {mean_squared_error(y_test, y_predict)}')\n",
    "print(f'R^2 score = {r2_score(y_test, y_predict)}')"
   ]
  }
 ],
 "metadata": {
  "kernelspec": {
   "display_name": "Python 3",
   "language": "python",
   "name": "python3"
  },
  "language_info": {
   "codemirror_mode": {
    "name": "ipython",
    "version": 3
   },
   "file_extension": ".py",
   "mimetype": "text/x-python",
   "name": "python",
   "nbconvert_exporter": "python",
   "pygments_lexer": "ipython3",
   "version": "3.7.0"
  }
 },
 "nbformat": 4,
 "nbformat_minor": 2
}
